{
  "nbformat": 4,
  "nbformat_minor": 0,
  "metadata": {
    "colab": {
      "provenance": [],
      "gpuType": "T4",
      "authorship_tag": "ABX9TyM421sf4dimbF5E37iqwb+1",
      "include_colab_link": true
    },
    "kernelspec": {
      "name": "python3",
      "display_name": "Python 3"
    },
    "language_info": {
      "name": "python"
    },
    "accelerator": "GPU"
  },
  "cells": [
    {
      "cell_type": "markdown",
      "metadata": {
        "id": "view-in-github",
        "colab_type": "text"
      },
      "source": [
        "<a href=\"https://colab.research.google.com/github/Studies-Tus/Maize-Yield-App/blob/main/MaizePredict.ipynb\" target=\"_parent\"><img src=\"https://colab.research.google.com/assets/colab-badge.svg\" alt=\"Open In Colab\"/></a>"
      ]
    },
    {
      "cell_type": "code",
      "execution_count": 15,
      "metadata": {
        "id": "J2GhA9VXXkfr"
      },
      "outputs": [],
      "source": [
        "!pip install xgboost --quiet"
      ]
    },
    {
      "cell_type": "code",
      "source": [
        "# STEP 1: Import libraries\n",
        "import pandas as pd\n",
        "import numpy as np\n",
        "from sklearn.model_selection import train_test_split\n",
        "from sklearn.preprocessing import MinMaxScaler\n",
        "from sklearn.linear_model import LinearRegression\n",
        "from sklearn.ensemble import RandomForestRegressor\n",
        "from xgboost import XGBRegressor\n",
        "from sklearn.metrics import mean_squared_error, mean_absolute_error, r2_score\n",
        "\n",
        "# STEP 2: Load dataset\n",
        "file_path = '/content/sample_data/Nigeria_Maize_Dataset.csv'\n",
        "df = pd.read_csv(file_path)\n",
        "\n",
        "# STEP 3: Inspect the data\n",
        "print(df.head())\n",
        "print(df.describe())\n",
        "print(df.isnull().sum())\n",
        "\n",
        "# STEP 4: Preprocess data\n",
        "# Drop location columns if not needed\n",
        "df.drop(['Latitude', 'Longitude'], axis=1, inplace=True)\n",
        "\n",
        "# Define features (X) and target (y)\n",
        "X = df[['Rainfall (mm)', 'Temperature (°C)', 'Soil_pH', 'Soil_Clay (%)',\n",
        "        'Soil_Silt (%)', 'Soil_Sand (%)', 'Fertilizer_Use (kg/ha)', 'Planting_Density (plants/m²)']]\n",
        "\n",
        "y = df['Maize_Yield (t/ha)']\n",
        "\n",
        "# Normalize features\n",
        "scaler = MinMaxScaler()\n",
        "X_scaled = scaler.fit_transform(X)\n",
        "\n",
        "# STEP 5: Train-test split\n",
        "X_train, X_test, y_train, y_test = train_test_split(X_scaled, y, test_size=0.2, random_state=42)\n",
        "\n",
        "# STEP 6: Initialize models\n",
        "models = {\n",
        "    'Linear Regression': LinearRegression(),\n",
        "    'Random Forest': RandomForestRegressor(n_estimators=100, random_state=42),\n",
        "    'XGBoost': XGBRegressor(n_estimators=100, random_state=42, verbosity=0)\n",
        "}\n",
        "\n",
        "# STEP 7: Train, predict, and evaluate\n",
        "for name, model in models.items():\n",
        "    model.fit(X_train, y_train)\n",
        "    y_pred = model.predict(X_test)\n",
        "\n",
        "    rmse = np.sqrt(mean_squared_error(y_test, y_pred))\n",
        "    mae = mean_absolute_error(y_test, y_pred)\n",
        "    r2 = r2_score(y_test, y_pred)\n",
        "\n",
        "    print(f\"\\n{name}\")\n",
        "    print(f\"RMSE: {rmse:.3f}\")\n",
        "    print(f\"MAE: {mae:.3f}\")\n",
        "    print(f\"R² Score: {r2:.3f}\")\n"
      ],
      "metadata": {
        "colab": {
          "base_uri": "https://localhost:8080/"
        },
        "id": "PiUnc2uscv-V",
        "outputId": "f4a52b9d-9846-4b55-bab7-1d4951ccdee0"
      },
      "execution_count": 16,
      "outputs": [
        {
          "output_type": "stream",
          "name": "stdout",
          "text": [
            "  State  Year  Latitude  Longitude  Maize_Yield (t/ha)  Rainfall (mm)  \\\n",
            "0  Abia  1995  4.300000   3.300000            3.097768    1494.552227   \n",
            "1  Abia  1996  4.555556   3.611111            1.655471    1399.855256   \n",
            "2  Abia  1997  4.811111   3.922222            2.509813    1025.213504   \n",
            "3  Abia  1998  5.066667   4.233333            1.903244     622.469308   \n",
            "4  Abia  1999  5.322222   4.544444            1.690125     868.677359   \n",
            "\n",
            "   Temperature (°C)   Soil_pH  Soil_Clay (%)  Soil_Silt (%)  Soil_Sand (%)  \\\n",
            "0         26.403254  6.574815      27.845988      23.206054      56.237637   \n",
            "1         31.907670  6.999872      36.527933      25.287453      74.020187   \n",
            "2         31.176834  5.395303      35.773085      15.300929      61.298455   \n",
            "3         29.926067  5.522595      44.737680      10.418899      52.232723   \n",
            "4         31.655236  7.137069      18.851829      11.643433      43.993352   \n",
            "\n",
            "   Fertilizer_Use (kg/ha)  Planting_Density (plants/m²)  \n",
            "0              112.738734                      5.391957  \n",
            "1               94.306341                      7.371529  \n",
            "2               91.046781                      5.374462  \n",
            "3               85.825645                      7.382632  \n",
            "4               79.016795                      5.827303  \n",
            "              Year    Latitude   Longitude  Maize_Yield (t/ha)  Rainfall (mm)  \\\n",
            "count   222.000000  222.000000  222.000000          222.000000     222.000000   \n",
            "mean   1997.500000    8.900000    8.900000            2.968406    1110.240317   \n",
            "std       1.711685    2.734753    3.329264            0.859693     297.652726   \n",
            "min    1995.000000    4.300000    3.300000            1.513896     610.995829   \n",
            "25%    1996.000000    6.600000    6.100000            2.189122     840.420137   \n",
            "50%    1997.500000    8.900000    8.900000            2.915465    1127.313658   \n",
            "75%    1999.000000   11.200000   11.700000            3.720647    1377.416406   \n",
            "max    2000.000000   13.500000   14.500000            4.490623    1597.934111   \n",
            "\n",
            "       Temperature (°C)     Soil_pH  Soil_Clay (%)  Soil_Silt (%)  \\\n",
            "count        222.000000  222.000000     222.000000     222.000000   \n",
            "mean          28.606963    6.104151      29.620243      20.107499   \n",
            "std            2.683886    0.625644       8.867449       5.733980   \n",
            "min           24.057473    5.010868      15.330938      10.064365   \n",
            "25%           26.189786    5.544724      21.462328      15.190240   \n",
            "50%           28.899999    6.124257      29.623739      20.627228   \n",
            "75%           30.849242    6.575352      37.122438      25.082504   \n",
            "max           32.974120    7.198710      44.900906      29.966950   \n",
            "\n",
            "       Soil_Sand (%)  Fertilizer_Use (kg/ha)  Planting_Density (plants/m²)  \n",
            "count     222.000000              222.000000                    222.000000  \n",
            "mean       58.204276               88.667748                      6.487660  \n",
            "std        10.208371               16.539123                      0.868679  \n",
            "min        40.434141               60.093906                      5.000404  \n",
            "25%        49.066307               76.666892                      5.827604  \n",
            "50%        58.755287               87.930491                      6.477785  \n",
            "75%        67.760587              100.564928                      7.256697  \n",
            "max        74.840313              119.630903                      7.993463  \n",
            "State                           0\n",
            "Year                            0\n",
            "Latitude                        0\n",
            "Longitude                       0\n",
            "Maize_Yield (t/ha)              0\n",
            "Rainfall (mm)                   0\n",
            "Temperature (°C)                0\n",
            "Soil_pH                         0\n",
            "Soil_Clay (%)                   0\n",
            "Soil_Silt (%)                   0\n",
            "Soil_Sand (%)                   0\n",
            "Fertilizer_Use (kg/ha)          0\n",
            "Planting_Density (plants/m²)    0\n",
            "dtype: int64\n",
            "\n",
            "Linear Regression\n",
            "RMSE: 0.905\n",
            "MAE: 0.777\n",
            "R² Score: -0.054\n",
            "\n",
            "Random Forest\n",
            "RMSE: 0.966\n",
            "MAE: 0.844\n",
            "R² Score: -0.201\n",
            "\n",
            "XGBoost\n",
            "RMSE: 1.079\n",
            "MAE: 0.949\n",
            "R² Score: -0.499\n"
          ]
        }
      ]
    },
    {
      "cell_type": "code",
      "source": [
        "results = []\n",
        "\n",
        "for name, model in models.items():\n",
        "    model.fit(X_train, y_train)\n",
        "    y_pred = model.predict(X_test)\n",
        "    rmse = np.sqrt(mean_squared_error(y_test, y_pred))\n",
        "    mae = mean_absolute_error(y_test, y_pred)\n",
        "    r2 = r2_score(y_test, y_pred)\n",
        "    results.append([name, rmse, mae, r2])\n",
        "\n",
        "result_df = pd.DataFrame(results, columns=[\"Model\", \"RMSE\", \"MAE\", \"R² Score\"])\n",
        "print(result_df)\n"
      ],
      "metadata": {
        "colab": {
          "base_uri": "https://localhost:8080/"
        },
        "id": "tzMhr1Xfepv5",
        "outputId": "719795dd-542a-4dee-f271-5a9f7578ba1d"
      },
      "execution_count": 17,
      "outputs": [
        {
          "output_type": "stream",
          "name": "stdout",
          "text": [
            "               Model      RMSE       MAE  R² Score\n",
            "0  Linear Regression  0.904921  0.776552 -0.053929\n",
            "1      Random Forest  0.965807  0.844223 -0.200525\n",
            "2            XGBoost  1.079245  0.949111 -0.499097\n"
          ]
        }
      ]
    },
    {
      "cell_type": "code",
      "source": [
        "import matplotlib.pyplot as plt\n",
        "\n",
        "best_model = RandomForestRegressor(n_estimators=100, random_state=42)\n",
        "best_model.fit(X_train, y_train)\n",
        "y_pred = best_model.predict(X_test)\n",
        "\n",
        "plt.figure(figsize=(8,6))\n",
        "plt.scatter(y_test, y_pred, color='blue', alpha=0.6)\n",
        "plt.plot([min(y_test), max(y_test)], [min(y_test), max(y_test)], 'r--')\n",
        "plt.xlabel(\"Actual Yield (t/ha)\")\n",
        "plt.ylabel(\"Predicted Yield (t/ha)\")\n",
        "plt.title(\"Actual vs Predicted Maize Yield\")\n",
        "plt.grid(True)\n",
        "plt.show()"
      ],
      "metadata": {
        "colab": {
          "base_uri": "https://localhost:8080/",
          "height": 564
        },
        "id": "BBZv0VZPexDR",
        "outputId": "ec1aa075-2ddc-4b6a-866d-9e688c3168bc"
      },
      "execution_count": 18,
      "outputs": [
        {
          "output_type": "display_data",
          "data": {
            "text/plain": [
              "<Figure size 800x600 with 1 Axes>"
            ],
            "image/png": "[encoded data removed]"
          },
          "metadata": {}
        }
      ]
    },
    {
      "cell_type": "code",
      "source": [
        "import joblib\n",
        "joblib.dump(best_model, \"maize_yield_model.pkl\")"
      ],
      "metadata": {
        "colab": {
          "base_uri": "https://localhost:8080/"
        },
        "id": "8-czNuOrhbgO",
        "outputId": "97d380ed-2cc4-4669-8828-4d7f96d5dd6a"
      },
      "execution_count": 19,
      "outputs": [
        {
          "output_type": "execute_result",
          "data": {
            "text/plain": [
              "['maize_yield_model.pkl']"
            ]
          },
          "metadata": {},
          "execution_count": 19
        }
      ]
    },
    {
      "cell_type": "code",
      "source": [
        " joblib.dump(scaler, 'scaler.pkl')"
      ],
      "metadata": {
        "colab": {
          "base_uri": "https://localhost:8080/"
        },
        "id": "snPiG2eDi_Rb",
        "outputId": "92bd1d8b-bb86-425c-b5cd-2658bb1f8b8e"
      },
      "execution_count": 20,
      "outputs": [
        {
          "output_type": "execute_result",
          "data": {
            "text/plain": [
              "['scaler.pkl']"
            ]
          },
          "metadata": {},
          "execution_count": 20
        }
      ]
    },
    {
      "cell_type": "code",
      "source": [
        "import joblib\n",
        "scaler = joblib.load('scaler.pkl')\n",
        "print(\"Expected input features:\", scaler.n_features_in_)"
      ],
      "metadata": {
        "colab": {
          "base_uri": "https://localhost:8080/"
        },
        "id": "VZZzlQUGxpEy",
        "outputId": "f561fd36-9e58-499e-c03b-ed512497969a"
      },
      "execution_count": 21,
      "outputs": [
        {
          "output_type": "stream",
          "name": "stdout",
          "text": [
            "Expected input features: 8\n"
          ]
        }
      ]
    },
    {
      "cell_type": "code",
      "source": [
        "from sklearn.preprocessing import MinMaxScaler\n",
        "from sklearn.ensemble import RandomForestRegressor\n",
        "import joblib\n",
        "\n",
        "# Scale\n",
        "scaler = MinMaxScaler()\n",
        "X_scaled = scaler.fit_transform(X)\n",
        "\n",
        "# Train-test split\n",
        "from sklearn.model_selection import train_test_split\n",
        "X_train, X_test, y_train, y_test = train_test_split(X_scaled, y, test_size=0.2, random_state=42)\n",
        "\n",
        "# Model\n",
        "model = RandomForestRegressor(n_estimators=100, random_state=42)\n",
        "model.fit(X_train, y_train)\n",
        "\n",
        "# Save\n",
        "joblib.dump(model, 'maize_yield_model.pkl')\n",
        "joblib.dump(scaler, 'scaler.pkl')"
      ],
      "metadata": {
        "colab": {
          "base_uri": "https://localhost:8080/"
        },
        "id": "j4qr258Yy4q_",
        "outputId": "c6d9e111-40d7-4e83-fd49-9990cdc9bf8e"
      },
      "execution_count": 22,
      "outputs": [
        {
          "output_type": "execute_result",
          "data": {
            "text/plain": [
              "['scaler.pkl']"
            ]
          },
          "metadata": {},
          "execution_count": 22
        }
      ]
    },
    {
      "cell_type": "code",
      "source": [
        "import joblib\n",
        "scaler = joblib.load('scaler.pkl')\n",
        "print(\"Expected input features:\", scaler.n_features_in_)"
      ],
      "metadata": {
        "colab": {
          "base_uri": "https://localhost:8080/"
        },
        "id": "TRA3v-OG2olX",
        "outputId": "a4bd2748-6d0f-4c05-8ea1-b7f6908519b5"
      },
      "execution_count": 23,
      "outputs": [
        {
          "output_type": "stream",
          "name": "stdout",
          "text": [
            "Expected input features: 8\n"
          ]
        }
      ]
    }
  ]
}